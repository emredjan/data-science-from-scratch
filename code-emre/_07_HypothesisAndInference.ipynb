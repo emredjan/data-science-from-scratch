{
 "cells": [
  {
   "cell_type": "code",
   "execution_count": 25,
   "metadata": {
    "ExecuteTime": {
     "end_time": "2017-02-19T17:14:51.254807",
     "start_time": "2017-02-19T17:14:50.768821"
    },
    "collapsed": true
   },
   "outputs": [],
   "source": [
    "from ipynb.fs.defs._06_Probability import normal_cdf, inverse_normal_cdf\n",
    "import math, random"
   ]
  },
  {
   "cell_type": "code",
   "execution_count": 26,
   "metadata": {
    "ExecuteTime": {
     "end_time": "2017-02-19T17:14:51.821814",
     "start_time": "2017-02-19T17:14:51.818813"
    }
   },
   "outputs": [],
   "source": [
    "def normal_approximation_to_binomial(n, p):\n",
    "    \"\"\"finds mu and sigma corresponding to a Binomial(n, p)\"\"\"\n",
    "    mu = p * n\n",
    "    sigma = math.sqrt(p * (1 - p) * n)\n",
    "    return mu, sigma"
   ]
  },
  {
   "cell_type": "code",
   "execution_count": 27,
   "metadata": {
    "ExecuteTime": {
     "end_time": "2017-02-19T17:14:52.872327",
     "start_time": "2017-02-19T17:14:52.864320"
    },
    "collapsed": true
   },
   "outputs": [],
   "source": [
    "# the normal cdf _is_ the probability the variable is below a threshold\n",
    "normal_probability_below = normal_cdf\n",
    "\n",
    "# it's above the threshold if it's not below the threshold\n",
    "def normal_probability_above(lo, mu=0, sigma=1):\n",
    "    return 1 - normal_cdf(lo, mu, sigma)\n",
    "\n",
    "# it's between if it's less than hi, but not less than lo\n",
    "def normal_probability_between(lo, hi, mu=0, sigma=1):\n",
    "    return normal_cdf(hi, mu, sigma) - normal_cdf(lo, mu, sigma)\n",
    "\n",
    "# it's outside if it's not between\n",
    "def normal_probability_outside(lo, hi, mu=0, sigma=1):\n",
    "    return 1 - normal_probability_between(lo, hi, mu, sigma)"
   ]
  },
  {
   "cell_type": "code",
   "execution_count": 28,
   "metadata": {
    "ExecuteTime": {
     "end_time": "2017-02-19T17:14:54.738512",
     "start_time": "2017-02-19T17:14:54.730504"
    },
    "collapsed": true
   },
   "outputs": [],
   "source": [
    "def normal_upper_bound(probability, mu=0, sigma=1):\n",
    "    \"\"\"returns the z for which P(Z <= z) = probability\"\"\"\n",
    "    return inverse_normal_cdf(probability, mu, sigma)\n",
    "\n",
    "def normal_lower_bound(probability, mu=0, sigma=1):\n",
    "    \"\"\"returns the z for which P(Z >= z) = probability\"\"\"\n",
    "    return inverse_normal_cdf(1 - probability, mu, sigma)\n",
    "\n",
    "def normal_two_sided_bounds(probability, mu=0, sigma=1):\n",
    "    \"\"\"returns the symmetric (about the mean) bounds\n",
    "    that contain the specified probability\"\"\"\n",
    "    tail_probability = (1 - probability) / 2\n",
    "\n",
    "    # upper bound should have tail_probability above it\n",
    "    upper_bound = normal_lower_bound(tail_probability, mu, sigma)\n",
    "\n",
    "    # lower bound should have tail_probability below it\n",
    "    lower_bound = normal_upper_bound(tail_probability, mu, sigma)\n",
    "\n",
    "    return lower_bound, upper_bound"
   ]
  },
  {
   "cell_type": "code",
   "execution_count": 29,
   "metadata": {
    "ExecuteTime": {
     "end_time": "2017-02-19T17:21:57.471230",
     "start_time": "2017-02-19T17:21:57.461206"
    }
   },
   "outputs": [
    {
     "name": "stdout",
     "output_type": "stream",
     "text": [
      "mu_0 500.0\n",
      "sigma_0 15.811388300841896\n",
      "normal_two_sided_bounds(0.95, mu_0, sigma_0) (469.01026640487555, 530.9897335951244)\n",
      "\n"
     ]
    }
   ],
   "source": [
    "mu_0, sigma_0 = normal_approximation_to_binomial(1000, 0.5)\n",
    "print(\"mu_0\", mu_0)\n",
    "print(\"sigma_0\", sigma_0)\n",
    "print(\"normal_two_sided_bounds(0.95, mu_0, sigma_0)\", normal_two_sided_bounds(0.95, mu_0, sigma_0))\n",
    "print()"
   ]
  },
  {
   "cell_type": "code",
   "execution_count": 30,
   "metadata": {
    "ExecuteTime": {
     "end_time": "2017-02-19T17:28:15.015703",
     "start_time": "2017-02-19T17:28:14.997683"
    }
   },
   "outputs": [
    {
     "name": "stdout",
     "output_type": "stream",
     "text": [
      "power of a test\n",
      "95% bounds based on assumption p is 0.5\n",
      "lo 469.01026640487555\n",
      "hi 530.9897335951244\n",
      "actual mu and sigma based on p = 0.55\n",
      "mu_1 550.0\n",
      "sigma_1 15.732132722552274\n",
      "type 2 probability 0.11345199870463285\n",
      "power 0.8865480012953671\n",
      "\n",
      "one-sided test\n",
      "hi 526.0073585242053\n",
      "type 2 probability 0.06362051966928273\n",
      "power 0.9363794803307173\n",
      "\n"
     ]
    }
   ],
   "source": [
    "print(\"power of a test\")\n",
    "print(\"95% bounds based on assumption p is 0.5\")\n",
    "\n",
    "lo, hi = normal_two_sided_bounds(0.95, mu_0, sigma_0)\n",
    "print(\"lo\", lo)\n",
    "print(\"hi\", hi)\n",
    "\n",
    "print(\"actual mu and sigma based on p = 0.55\")\n",
    "mu_1, sigma_1 = normal_approximation_to_binomial(1000, 0.55)\n",
    "print(\"mu_1\", mu_1)\n",
    "print(\"sigma_1\", sigma_1)\n",
    "# a type 2 error means we fail to reject the null hypothesis\n",
    "# which will happen when X is still in our original interval\n",
    "type_2_probability = normal_probability_between(lo, hi, mu_1, sigma_1)\n",
    "power = 1 - type_2_probability # 0.887\n",
    "\n",
    "print(\"type 2 probability\", type_2_probability)\n",
    "print(\"power\", power)\n",
    "print()\n",
    "\n",
    "print(\"one-sided test\")\n",
    "hi = normal_upper_bound(0.95, mu_0, sigma_0)\n",
    "print(\"hi\", hi) # is 526 (< 531, since we need more probability in the upper tail)\n",
    "type_2_probability = normal_probability_below(hi, mu_1, sigma_1)\n",
    "power = 1 - type_2_probability # = 0.936\n",
    "print(\"type 2 probability\", type_2_probability)\n",
    "print(\"power\", power)\n",
    "print()"
   ]
  },
  {
   "cell_type": "code",
   "execution_count": 31,
   "metadata": {
    "ExecuteTime": {
     "end_time": "2017-02-19T17:28:32.133480",
     "start_time": "2017-02-19T17:28:32.129458"
    },
    "collapsed": true
   },
   "outputs": [],
   "source": [
    "def two_sided_p_value(x, mu=0, sigma=1):\n",
    "    if x >= mu:\n",
    "        # if x is greater than the mean, the tail is above x\n",
    "        return 2 * normal_probability_above(x, mu, sigma)\n",
    "    else:\n",
    "        # if x is less than the mean, the tail is below x\n",
    "        return 2 * normal_probability_below(x, mu, sigma)"
   ]
  },
  {
   "cell_type": "code",
   "execution_count": 32,
   "metadata": {
    "ExecuteTime": {
     "end_time": "2017-02-19T17:31:47.664590",
     "start_time": "2017-02-19T17:31:47.660103"
    }
   },
   "outputs": [
    {
     "name": "stdout",
     "output_type": "stream",
     "text": [
      "two_sided_p_value(529.5, mu_0, sigma_0) 0.06207721579598857\n"
     ]
    }
   ],
   "source": [
    "print(\"two_sided_p_value(529.5, mu_0, sigma_0)\", two_sided_p_value(529.5, mu_0, sigma_0))"
   ]
  },
  {
   "cell_type": "code",
   "execution_count": 33,
   "metadata": {
    "ExecuteTime": {
     "end_time": "2017-02-19T17:32:59.882955",
     "start_time": "2017-02-19T17:32:46.136474"
    }
   },
   "outputs": [
    {
     "data": {
      "text/plain": [
       "0.06155"
      ]
     },
     "execution_count": 33,
     "metadata": {},
     "output_type": "execute_result"
    }
   ],
   "source": [
    "def count_extreme_values():\n",
    "    extreme_value_count = 0\n",
    "    for _ in range(100000):\n",
    "        num_heads = sum(1 if random.random() < 0.5 else 0    # count # of heads\n",
    "                        for _ in range(1000))                # in 1000 flips\n",
    "        if num_heads >= 530 or num_heads <= 470:             # and count how often\n",
    "            extreme_value_count += 1                         # the # is 'extreme'\n",
    "\n",
    "    return extreme_value_count / 100000\n",
    "\n",
    "count_extreme_values()"
   ]
  },
  {
   "cell_type": "code",
   "execution_count": 34,
   "metadata": {
    "ExecuteTime": {
     "end_time": "2017-02-19T17:34:43.608040",
     "start_time": "2017-02-19T17:34:43.604052"
    }
   },
   "outputs": [
    {
     "name": "stdout",
     "output_type": "stream",
     "text": [
      "two_sided_p_value(531.5, mu_0, sigma_0) 0.046345287837786575\n"
     ]
    }
   ],
   "source": [
    "print(\"two_sided_p_value(531.5, mu_0, sigma_0)\", two_sided_p_value(531.5, mu_0, sigma_0))"
   ]
  },
  {
   "cell_type": "code",
   "execution_count": 35,
   "metadata": {
    "ExecuteTime": {
     "end_time": "2017-02-19T17:37:13.141375",
     "start_time": "2017-02-19T17:37:13.137371"
    }
   },
   "outputs": [
    {
     "name": "stdout",
     "output_type": "stream",
     "text": [
      "upper_p_value(525, mu_0, sigma_0) 0.06062885772582083\n",
      "upper_p_value(527, mu_0, sigma_0) 0.04686839508859242\n",
      "\n"
     ]
    }
   ],
   "source": [
    "upper_p_value = normal_probability_above\n",
    "lower_p_value = normal_probability_below\n",
    "print(\"upper_p_value(525, mu_0, sigma_0)\", upper_p_value(524.5, mu_0, sigma_0))\n",
    "print(\"upper_p_value(527, mu_0, sigma_0)\", upper_p_value(526.5, mu_0, sigma_0))\n",
    "print()"
   ]
  },
  {
   "cell_type": "code",
   "execution_count": 36,
   "metadata": {
    "ExecuteTime": {
     "end_time": "2017-02-19T17:45:20.126226",
     "start_time": "2017-02-19T17:45:19.974527"
    }
   },
   "outputs": [
    {
     "name": "stdout",
     "output_type": "stream",
     "text": [
      "P-hacking\n",
      "46 rejections out of 1000\n",
      "\n"
     ]
    }
   ],
   "source": [
    "def run_experiment():\n",
    "    \"\"\"flip a fair coin 1000 times, True = heads, False = tails\"\"\"\n",
    "    return [random.random() < 0.5 for _ in range(1000)]\n",
    "\n",
    "def reject_fairness(experiment):\n",
    "    \"\"\"using the 5% significance levels\"\"\"\n",
    "    num_heads = len([flip for flip in experiment if flip])\n",
    "    return num_heads < 469 or num_heads > 531\n",
    "\n",
    "print(\"P-hacking\")\n",
    "\n",
    "random.seed(0)\n",
    "experiments = [run_experiment() for _ in range(1000)]\n",
    "num_rejections = len([experiment\n",
    "                      for experiment in experiments\n",
    "                      if reject_fairness(experiment)])\n",
    "\n",
    "print(num_rejections, \"rejections out of 1000\")\n",
    "print()"
   ]
  },
  {
   "cell_type": "code",
   "execution_count": 37,
   "metadata": {
    "ExecuteTime": {
     "end_time": "2017-02-19T17:47:24.270769",
     "start_time": "2017-02-19T17:47:24.265743"
    },
    "collapsed": true
   },
   "outputs": [],
   "source": [
    "def estimated_parameters(N, n):\n",
    "    p = n / N\n",
    "    sigma = math.sqrt(p * (1 - p) / N)\n",
    "    return p, sigma\n",
    "\n",
    "def a_b_test_statistic(N_A, n_A, N_B, n_B):\n",
    "    p_A, sigma_A = estimated_parameters(N_A, n_A)\n",
    "    p_B, sigma_B = estimated_parameters(N_B, n_B)\n",
    "    return (p_B - p_A) / math.sqrt(sigma_A ** 2 + sigma_B ** 2)"
   ]
  },
  {
   "cell_type": "code",
   "execution_count": 38,
   "metadata": {
    "ExecuteTime": {
     "end_time": "2017-02-19T17:51:38.692603",
     "start_time": "2017-02-19T17:51:38.685597"
    }
   },
   "outputs": [
    {
     "name": "stdout",
     "output_type": "stream",
     "text": [
      "A/B testing\n",
      "a_b_test_statistic(1000, 200, 1000, 180) -1.1403464899034472\n",
      "p-value 0.254141976542236\n",
      "a_b_test_statistic(1000, 200, 1000, 150) -2.948839123097944\n",
      "p-value 0.003189699706216853\n"
     ]
    }
   ],
   "source": [
    "print(\"A/B testing\")\n",
    "\n",
    "z = a_b_test_statistic(1000, 200, 1000, 180)\n",
    "print(\"a_b_test_statistic(1000, 200, 1000, 180)\", z)\n",
    "print(\"p-value\", two_sided_p_value(z))\n",
    "\n",
    "z = a_b_test_statistic(1000, 200, 1000, 150)\n",
    "print(\"a_b_test_statistic(1000, 200, 1000, 150)\", z)\n",
    "print(\"p-value\", two_sided_p_value(z))"
   ]
  },
  {
   "cell_type": "code",
   "execution_count": 39,
   "metadata": {
    "collapsed": true
   },
   "outputs": [],
   "source": [
    "def B(alpha, beta):\n",
    "    \"\"\"a normalizing constant so that the total probability is 1\"\"\"\n",
    "    return math.gamma(alpha) * math.gamma(beta) / math.gamma(alpha + beta)\n",
    "\n",
    "def beta_pdf(x, alpha, beta):\n",
    "    # if x < 0 or x > 1:          # no weight outside of [0, 1]\n",
    "    #     return 0\n",
    "    return x ** (alpha - 1) * (1 - x) ** (beta - 1) / B(alpha, beta)"
   ]
  },
  {
   "cell_type": "markdown",
   "metadata": {},
   "source": [
    "### Bayesian Inference"
   ]
  },
  {
   "cell_type": "code",
   "execution_count": 40,
   "metadata": {
    "collapsed": true
   },
   "outputs": [],
   "source": [
    "%matplotlib inline\n",
    "\n",
    "import numpy as np\n",
    "import matplotlib.pyplot as plt"
   ]
  },
  {
   "cell_type": "code",
   "execution_count": 41,
   "metadata": {
    "collapsed": true
   },
   "outputs": [],
   "source": [
    "import scipy.stats as ss\n",
    "\n",
    "def plot_beta(x_range, a, b, mu=0, sigma=1, cdf=False, **kwargs):\n",
    "    '''\n",
    "    Plots the f distribution function for a given x range, a and b\n",
    "    If mu and sigma are not provided, standard beta is plotted\n",
    "    If cdf=True cumulative distribution is plotted\n",
    "    Passes any keyword arguments to matplotlib plot function\n",
    "    '''\n",
    "    x = x_range\n",
    "    if cdf:\n",
    "        y = ss.beta.cdf(x, a, b, mu, sigma)\n",
    "    else:\n",
    "        y = ss.beta.pdf(x, a, b, mu, sigma)\n",
    "    plt.plot(x, y, **kwargs)"
   ]
  },
  {
   "cell_type": "code",
   "execution_count": 42,
   "metadata": {},
   "outputs": [],
   "source": [
    "def flip_coin(size=10, random_state=42):\n",
    "    np.random.seed(random_state)\n",
    "    flips = np.random.randint(0, 1+1, size)\n",
    "    h = np.sum(flips == 0)\n",
    "    t = np.sum(flips == 1)\n",
    "    return h, t"
   ]
  },
  {
   "cell_type": "code",
   "execution_count": 43,
   "metadata": {},
   "outputs": [
    {
     "data": {
      "image/png": "[encoded data removed]",
      "text/plain": [
       "<matplotlib.figure.Figure at 0x7f589c5afd30>"
      ]
     },
     "metadata": {},
     "output_type": "display_data"
    }
   ],
   "source": [
    "h_1, t_1 = 3, 7\n",
    "\n",
    "a_1, b_1 = 1, 1\n",
    "a_2, b_2 = 20, 20\n",
    "a_3, b_3 = 30, 10\n",
    "\n",
    "a_1, b_1 = a_1 + h_1, b_1 + t_1\n",
    "a_2, b_2 = a_2 + h_1, b_2 + t_1\n",
    "a_3, b_3 = a_3 + h_1, b_3 + t_1\n",
    "\n",
    "plot_beta(x, a_1, b_1, label=rf'$\\beta$({a_1},{b_1})')\n",
    "plot_beta(x, a_2, b_2, label=rf'$\\beta$({a_2},{b_2})')\n",
    "plot_beta(x, a_3, b_3, label=rf'$\\beta$({a_3},{b_3})')\n",
    "\n",
    "plt.legend();"
   ]
  },
  {
   "cell_type": "code",
   "execution_count": 44,
   "metadata": {},
   "outputs": [
    {
     "data": {
      "image/png": "[encoded data removed]",
      "text/plain": [
       "<matplotlib.figure.Figure at 0x7f589c547d30>"
      ]
     },
     "metadata": {},
     "output_type": "display_data"
    }
   ],
   "source": [
    "h_2, t_2 = flip_coin(100)\n",
    "\n",
    "\n",
    "a_1, b_1 = 1, 1\n",
    "a_2, b_2 = 20, 20\n",
    "a_3, b_3 = 30, 10\n",
    "\n",
    "a_1, b_1 = a_1 + h_2, b_1 + t_2\n",
    "a_2, b_2 = a_2 + h_2, b_2 + t_2\n",
    "a_3, b_3 = a_3 + h_2, b_3 + t_2\n",
    "\n",
    "plot_beta(x, a_1, b_1, label=rf'$\\beta$({a_1},{b_1})')\n",
    "plot_beta(x, a_2, b_2, label=rf'$\\beta$({a_2},{b_2})')\n",
    "plot_beta(x, a_3, b_3, label=rf'$\\beta$({a_3},{b_3})')\n",
    "\n",
    "plt.legend();"
   ]
  }
 ],
 "metadata": {
  "kernelspec": {
   "display_name": "Python [default]",
   "language": "python",
   "name": "python3"
  },
  "language_info": {
   "codemirror_mode": {
    "name": "ipython",
    "version": 3
   },
   "file_extension": ".py",
   "mimetype": "text/x-python",
   "name": "python",
   "nbconvert_exporter": "python",
   "pygments_lexer": "ipython3",
   "version": "3.6.3"
  }
 },
 "nbformat": 4,
 "nbformat_minor": 2
}
